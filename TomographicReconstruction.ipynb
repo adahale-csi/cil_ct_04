%matplotlib inline
import matplotlib.pyplot as plt
from ct_reconstruction import phantom, sino, fbp_recon

fig, (ax1, ax2, ax3) = plt.subplots(1, 3, figsize=(15, 5))
ax1.imshow(phantom, cmap='gray')
ax1.set_title('Original Phantom')
ax2.imshow(sino.array, cmap='gray', aspect='auto')
ax2.set_title('Sinogram')
ax3.imshow(fbp_recon.array, cmap='gray')
ax3.set_title('FBP Reconstruction')
plt.tight_layout()
plt.show()
